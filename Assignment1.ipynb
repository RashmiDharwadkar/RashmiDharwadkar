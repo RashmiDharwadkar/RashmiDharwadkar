{
  "nbformat": 4,
  "nbformat_minor": 0,
  "metadata": {
    "colab": {
      "name": "Assignment",
      "provenance": [],
      "collapsed_sections": [],
      "authorship_tag": "ABX9TyN6955WredjhfCmtRheUzLg",
      "include_colab_link": true
    },
    "kernelspec": {
      "name": "python3",
      "display_name": "Python 3"
    },
    "language_info": {
      "name": "python"
    }
  },
  "cells": [
    {
      "cell_type": "markdown",
      "metadata": {
        "id": "view-in-github",
        "colab_type": "text"
      },
      "source": [
        "<a href=\"https://colab.research.google.com/github/RashmiDharwadkar/RashmiDharwadkar/blob/main/Assignment1.ipynb\" target=\"_parent\"><img src=\"https://colab.research.google.com/assets/colab-badge.svg\" alt=\"Open In Colab\"/></a>"
      ]
    },
    {
      "cell_type": "code",
      "metadata": {
        "colab": {
          "base_uri": "https://localhost:8080/"
        },
        "id": "7RFyjdYJQvvI",
        "outputId": "a93276ed-d3d9-4720-9593-ed8b5d5875bd"
      },
      "source": [
        "# 1) Program to check version\n",
        "import sys\n",
        "print (sys.version)"
      ],
      "execution_count": null,
      "outputs": [
        {
          "output_type": "stream",
          "text": [
            "3.7.10 (default, Feb 20 2021, 21:17:23) \n",
            "[GCC 7.5.0]\n"
          ],
          "name": "stdout"
        }
      ]
    },
    {
      "cell_type": "code",
      "metadata": {
        "colab": {
          "base_uri": "https://localhost:8080/"
        },
        "id": "RAjDIBseQ5lt",
        "outputId": "d6ab4dca-49ab-4a34-ce68-d25734a9ba35"
      },
      "source": [
        "# 2) Program to check the data type\n",
        "a = 2\n",
        "b='hello'\n",
        "c=0.25\n",
        "print (type(a))\n",
        "print (type(b))\n",
        "print (type(c))"
      ],
      "execution_count": null,
      "outputs": [
        {
          "output_type": "stream",
          "text": [
            "<class 'int'>\n",
            "<class 'str'>\n",
            "<class 'float'>\n"
          ],
          "name": "stdout"
        }
      ]
    },
    {
      "cell_type": "code",
      "metadata": {
        "id": "bu2jRx43R-mh"
      },
      "source": [
        "# 3)Write a program that takes 2 numbers as command line arguments and prints its sum\n",
        "var1=input(\"Enter number a : \")\n",
        "var2=input(\"Enter number b:  \")\n",
        "sum= int(var1)+int(var2)\n",
        "print(sum)"
      ],
      "execution_count": null,
      "outputs": []
    },
    {
      "cell_type": "code",
      "metadata": {
        "id": "LX3LtLmRT_VU",
        "colab": {
          "base_uri": "https://localhost:8080/"
        },
        "outputId": "a0e7b4cf-c35f-46f1-c1c6-a9295f4b77b6"
      },
      "source": [
        "# 4) Write a program to compute distance (Euclidean distance) between two points taking input from the user\n",
        "import math\n",
        "x1=int(input(\"enter x1 : \"))\n",
        "x2=int(input(\"enter x2 : \"))\n",
        "y1=int(input(\"enter y1 : \"))\n",
        "y2=int(input(\"enter y2 : \"))\n",
        "result=((((x2-x1)**2) + ((y2-y1)**2))**0.5)\n",
        "print(\"distance between\",(x1,x2),\"and\",(y1,y2),\"is : \",result)\n"
      ],
      "execution_count": null,
      "outputs": [
        {
          "output_type": "stream",
          "text": [
            "enter x1 : 5\n",
            "enter x2 : 5\n",
            "enter y1 : 4\n",
            "enter y2 : 6\n",
            "distance between (5, 5) and (4, 6) is :  2.0\n"
          ],
          "name": "stdout"
        }
      ]
    },
    {
      "cell_type": "code",
      "metadata": {
        "colab": {
          "base_uri": "https://localhost:8080/"
        },
        "id": "DhxwmZ_anZv5",
        "outputId": "910e52be-9e13-451a-c5d3-42475f25028a"
      },
      "source": [
        "# 5) Write a program to exchange the values of two numbers without using a temporary variable\n",
        "a=5\n",
        "b=3\n",
        "a=a+b\n",
        "b=a-b\n",
        "a=a-b\n",
        "print(\"The value of a\", a)\n",
        "print(\"The value of b\", b)\n"
      ],
      "execution_count": null,
      "outputs": [
        {
          "output_type": "stream",
          "text": [
            "The value of a 3\n",
            "The value of b 5\n"
          ],
          "name": "stdout"
        }
      ]
    },
    {
      "cell_type": "code",
      "metadata": {
        "colab": {
          "base_uri": "https://localhost:8080/"
        },
        "id": "LrD1eAkepNBA",
        "outputId": "77b6742e-fa3f-49c1-94fa-1cc7861e7aac"
      },
      "source": [
        "# 6)Write a Program for checking whether the given number is an even number or not.\n",
        "import math\n",
        "num=int(input(\"Enter any number you wish\"))\n",
        "mod = num % 2\n",
        "if mod == 0:\n",
        " print(\"the number is even\")\n",
        "else:\n",
        " print(\"the number is odd\")\n"
      ],
      "execution_count": null,
      "outputs": [
        {
          "output_type": "stream",
          "text": [
            "Enter any number you wish5\n",
            "the number is odd\n"
          ],
          "name": "stdout"
        }
      ]
    },
    {
      "cell_type": "code",
      "metadata": {
        "colab": {
          "base_uri": "https://localhost:8080/"
        },
        "id": "_FbZftz9vTTf",
        "outputId": "e9b7224f-4137-4a23-ce27-f700b4c7e333"
      },
      "source": [
        "# 7) Write a program to find largest number among three numbers.\n",
        "import math\n",
        "input_array=[1,9,5]\n",
        "largest_number=input_array[0]\n",
        "\n",
        "for x in input_array:\n",
        "  if x > largest_number:\n",
        "    largest_number=x\n",
        "\n",
        "print(largest_number)\n"
      ],
      "execution_count": null,
      "outputs": [
        {
          "output_type": "stream",
          "text": [
            "9\n"
          ],
          "name": "stdout"
        }
      ]
    },
    {
      "cell_type": "code",
      "metadata": {
        "colab": {
          "base_uri": "https://localhost:8080/"
        },
        "id": "PeJF-QsU64DD",
        "outputId": "918ec87d-ce85-4ca9-829f-15342f1f6520"
      },
      "source": [
        "# 8) Write a program to reverse a given number\n",
        "number=int(input(\"Enter the number\"))\n",
        "rev_number= 0\n",
        "while(number > 0):\n",
        "      a = number % 10\n",
        "      rev_number = rev_number * 10 + a\n",
        "      number = number // 10\n",
        "      \n",
        "print(rev_number)\n",
        " \n",
        "\n",
        "\n",
        "\n",
        "\n"
      ],
      "execution_count": 6,
      "outputs": [
        {
          "output_type": "stream",
          "text": [
            "Enter the number123\n",
            "321\n"
          ],
          "name": "stdout"
        }
      ]
    },
    {
      "cell_type": "code",
      "metadata": {
        "id": "MW6NGPcWRtIF"
      },
      "source": [
        ""
      ],
      "execution_count": null,
      "outputs": []
    },
    {
      "cell_type": "code",
      "metadata": {
        "id": "H1nfAiUC_UWK"
      },
      "source": [
        "# 9)Write a program to compute simple interest given the principle amount, rate and time"
      ],
      "execution_count": null,
      "outputs": []
    },
    {
      "cell_type": "code",
      "metadata": {
        "colab": {
          "base_uri": "https://localhost:8080/"
        },
        "id": "fCC34ox__aiR",
        "outputId": "ca5a0e40-f8b7-4220-a1b1-880e04f425d2"
      },
      "source": [
        "Principal_amt=int(input(\"Enter principal amount : \"))\n",
        "Rate_interest=int(input(\"Enter ROI : \"))\n",
        "no_of_years=int(input(\"Enter years : \"))\n",
        "rt=(Principal_amt*Rate_interest*no_of_years) \n",
        "SI=rt/100\n",
        "print(SI)\n"
      ],
      "execution_count": 4,
      "outputs": [
        {
          "output_type": "stream",
          "text": [
            "Enter principal amount : 100\n",
            "Enter ROI : 5\n",
            "Enter time : 1\n",
            "5.0\n"
          ],
          "name": "stdout"
        }
      ]
    },
    {
      "cell_type": "code",
      "metadata": {
        "colab": {
          "base_uri": "https://localhost:8080/"
        },
        "id": "YwYNSyM-RwED",
        "outputId": "c984da92-6dc8-4c14-8d5a-ef443766cd99"
      },
      "source": [
        "# 10) Write a program to check whether a number is positive or negative\n",
        "number=int(input(\"Enter the number\"))\n",
        "if number > 0:\n",
        " print(\"number is positive\")\n",
        "elif number < 0 :\n",
        "\n",
        " print(\"number is negative\")"
      ],
      "execution_count": 12,
      "outputs": [
        {
          "output_type": "stream",
          "text": [
            "Enter the number-5\n",
            "number is negative\n"
          ],
          "name": "stdout"
        }
      ]
    },
    {
      "cell_type": "code",
      "metadata": {
        "id": "edhfAT8tUaPh"
      },
      "source": [
        ""
      ],
      "execution_count": null,
      "outputs": []
    },
    {
      "cell_type": "code",
      "metadata": {
        "colab": {
          "base_uri": "https://localhost:8080/"
        },
        "id": "kMAmlrk4UNqT",
        "outputId": "720c1813-b549-49f8-b792-a2adf6e60a9d"
      },
      "source": [
        "# 11)Write a program to read two numbers and print their quotient and remainder\n",
        "number_first=int(input(\"Enter the number to be devided\"))\n",
        "number_seccond=int(input(\"Enter the number\"))\n",
        "quotient = number_first / number_seccond\n",
        "remainder = number_first % number_seccond\n",
        "print(quotient)\n",
        "print(remainder)"
      ],
      "execution_count": 13,
      "outputs": [
        {
          "output_type": "stream",
          "text": [
            "Enter the number to be devided10\n",
            "Enter the number2\n",
            "5.0\n",
            "0\n"
          ],
          "name": "stdout"
        }
      ]
    },
    {
      "cell_type": "code",
      "metadata": {
        "colab": {
          "base_uri": "https://localhost:8080/"
        },
        "id": "mCVBX4MKVxJT",
        "outputId": "86321965-644c-4992-8a65-8cc880c32308"
      },
      "source": [
        "# 12)Write a program to check whether a given year is a leap year\n",
        "year=int(input(\"Enter the Year\"))\n",
        "leap_year_flag = \"F\"\n",
        "if year%100==0 and year%400==0:\n",
        " leap_year_flag = \"T\"\n",
        " print(\"1\")  \n",
        "elif  year%100!=0 and year%4==0:\n",
        "  leap_year_flag = \"T\"\n",
        "  print(\"2\")  \n",
        "\n",
        "if leap_year_flag == \"T\":\n",
        " print(\"Leap Year\")  \n",
        "else:\n",
        " print(\"Not Leap Year\")  \n",
        "\n"
      ],
      "execution_count": 1,
      "outputs": [
        {
          "output_type": "stream",
          "text": [
            "Enter the Year2021\n",
            "Not Leap Year\n"
          ],
          "name": "stdout"
        }
      ]
    }
  ]
}